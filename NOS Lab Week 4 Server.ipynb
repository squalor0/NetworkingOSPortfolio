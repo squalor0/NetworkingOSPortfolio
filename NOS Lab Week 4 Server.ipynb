{
 "cells": [
  {
   "cell_type": "code",
   "execution_count": null,
   "metadata": {},
   "outputs": [
    {
     "name": "stdout",
     "output_type": "stream",
     "text": [
      "UDP Chat Server is ready to receive messages...\n"
     ]
    }
   ],
   "source": [
    "import socket\n",
    "\n",
    "# Create a UDP socket\n",
    "server_socket = socket.socket(socket.AF_INET, socket.SOCK_DGRAM)\n",
    "server_socket.bind(('localhost', 65433))\n",
    "\n",
    "print(\"UDP Chat Server is ready to receive messages...\")\n",
    "\n",
    "# Dictionary to store client addresses and authentication status\n",
    "clients = {}\n",
    "\n",
    "# Hardcoded user credentials (for demonstration purposes)\n",
    "users = {\n",
    "    \"user1\": \"password1\",\n",
    "    \"user2\": \"password2\"\n",
    "}\n",
    "\n",
    "def authenticate(username, password):\n",
    "    \"\"\"Check if the username and password are valid.\"\"\"\n",
    "    return username in users and users[username] == password\n",
    "\n",
    "while True:\n",
    "    # Receive data from a client\n",
    "    data, client_address = server_socket.recvfrom(2048)\n",
    "    message = data.decode()\n",
    "\n",
    "    if client_address not in clients:\n",
    "        # New client: ask for authentication\n",
    "        print(f\"New client connected: {client_address}\")\n",
    "        server_socket.sendto(b\"USERNAME\", client_address)  # Ask for username\n",
    "        username, _ = server_socket.recvfrom(2048)\n",
    "        server_socket.sendto(b\"PASSWORD\", client_address)  # Ask for password\n",
    "        password, _ = server_socket.recvfrom(2048)\n",
    "\n",
    "        # Authenticate the client\n",
    "        if authenticate(username.decode(), password.decode()):\n",
    "            clients[client_address] = {\"username\": username.decode(), \"authenticated\": True}\n",
    "            server_socket.sendto(b\"Authentication successful! You can now chat.\", client_address)\n",
    "            print(f\"Client {client_address} authenticated as {username.decode()}\")\n",
    "        else:\n",
    "            server_socket.sendto(b\"Authentication failed. Disconnecting...\", client_address)\n",
    "            print(f\"Client {client_address} failed authentication.\")\n",
    "            continue\n",
    "    else:\n",
    "        # Existing client: check if authenticated\n",
    "        if not clients[client_address][\"authenticated\"]:\n",
    "            server_socket.sendto(b\"Please authenticate first.\", client_address)\n",
    "            continue\n",
    "\n",
    "    # Handle chat messages\n",
    "    print(f\"{clients[client_address]['username']}: {message}\")\n",
    "\n",
    "    # Send a reply to the client\n",
    "    reply = input(\"You: \")\n",
    "    server_socket.sendto(reply.encode(), client_address)"
   ]
  }
 ],
 "metadata": {
  "kernelspec": {
   "display_name": "dp4ai",
   "language": "python",
   "name": "dp4ai"
  },
  "language_info": {
   "codemirror_mode": {
    "name": "ipython",
    "version": 3
   },
   "file_extension": ".py",
   "mimetype": "text/x-python",
   "name": "python",
   "nbconvert_exporter": "python",
   "pygments_lexer": "ipython3",
   "version": "3.12.5"
  }
 },
 "nbformat": 4,
 "nbformat_minor": 2
}
