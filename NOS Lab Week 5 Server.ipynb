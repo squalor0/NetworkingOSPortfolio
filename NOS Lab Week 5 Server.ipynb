{
 "cells": [
  {
   "cell_type": "code",
   "execution_count": null,
   "metadata": {},
   "outputs": [
    {
     "name": "stdout",
     "output_type": "stream",
     "text": [
      "TCP Server is listening...\n",
      "Connected to ('127.0.0.1', 22853)\n",
      "Received 9 bytes of data.\n",
      "Data written to file: I am well\n",
      "No more data received. Closing connection.\n",
      "File received and saved as 'received_file.txt'\n"
     ]
    }
   ],
   "source": [
    "import socket\n",
    "\n",
    "# Create a TCP socket\n",
    "server_socket = socket.socket(socket.AF_INET, socket.SOCK_STREAM)\n",
    "server_socket.bind(('localhost', 65432))\n",
    "server_socket.listen(1)  # Allow 1 pending connection\n",
    "print(\"TCP Server is listening...\")\n",
    "\n",
    "while True:\n",
    "    # Accept a connection from a client\n",
    "    client_socket, client_address = server_socket.accept()\n",
    "    print(f\"Connected to {client_address}\")\n",
    "\n",
    "    # Open a file to save the received data\n",
    "    with open('received_file.txt', 'wb') as f:\n",
    "        while True:\n",
    "            # Receive data from the client\n",
    "            data = client_socket.recv(1024)\n",
    "            if not data:\n",
    "                print(\"No more data received. Closing connection.\")\n",
    "                break  # Stop receiving if no more data is sent\n",
    "            print(f\"Received {len(data)} bytes of data.\")\n",
    "            f.write(data)  # Write the received data to the file\n",
    "            f.flush()  # Explicitly flush the buffer to the file\n",
    "            print(f\"Data written to file: {data.decode()}\")\n",
    "\n",
    "    print(\"File received and saved as 'received_file.txt'\")\n",
    "\n",
    "    # Close the client socket\n",
    "    client_socket.close()"
   ]
  },
  {
   "cell_type": "code",
   "execution_count": null,
   "metadata": {},
   "outputs": [
    {
     "name": "stdout",
     "output_type": "stream",
     "text": [
      "UDP Server is listening...\n",
      "Received from ('127.0.0.1', 49667): hi\n"
     ]
    }
   ],
   "source": [
    "import socket\n",
    "\n",
    "# Create a UDP socket\n",
    "server_socket = socket.socket(socket.AF_INET, socket.SOCK_DGRAM)\n",
    "server_socket.bind(('localhost', 65433))\n",
    "print(\"UDP Server is listening...\")\n",
    "\n",
    "while True:\n",
    "    # Receive data from the client\n",
    "    data, client_address = server_socket.recvfrom(1024)\n",
    "    print(f\"Received from {client_address}: {data.decode()}\")\n",
    "    \n",
    "    # Echo back the data\n",
    "    server_socket.sendto(b\"ACK: \" + data, client_address)"
   ]
  },
  {
   "cell_type": "code",
   "execution_count": null,
   "metadata": {},
   "outputs": [
    {
     "name": "stdout",
     "output_type": "stream",
     "text": [
      "TCP Server is listening...\n",
      "Connected to ('127.0.0.1', 23041)\n",
      "Received 9 bytes of data.\n",
      "No more data received. Closing connection.\n",
      "File received and saved as 'received_file.txt' in 0.0020 seconds.\n"
     ]
    }
   ],
   "source": [
    "import socket\n",
    "import time  # Import the time module\n",
    "\n",
    "# Create a TCP socket\n",
    "server_socket = socket.socket(socket.AF_INET, socket.SOCK_STREAM)\n",
    "server_socket.bind(('localhost', 65432))\n",
    "server_socket.listen(1)  # Allow 1 pending connection\n",
    "print(\"TCP Server is listening...\")\n",
    "\n",
    "while True:\n",
    "    # Accept a connection from a client\n",
    "    client_socket, client_address = server_socket.accept()\n",
    "    print(f\"Connected to {client_address}\")\n",
    "\n",
    "    # Record the start time\n",
    "    start_time = time.time()\n",
    "\n",
    "    # Open a file to save the received data\n",
    "    with open('received_file.txt', 'wb') as f:\n",
    "        while True:\n",
    "            # Receive data from the client\n",
    "            data = client_socket.recv(1024)\n",
    "            if not data:\n",
    "                print(\"No more data received. Closing connection.\")\n",
    "                break  # Stop receiving if no more data is sent\n",
    "            print(f\"Received {len(data)} bytes of data.\")\n",
    "            f.write(data)  # Write the received data to the file\n",
    "            f.flush()  # Explicitly flush the buffer to the file\n",
    "\n",
    "    # Record the end time\n",
    "    end_time = time.time()\n",
    "\n",
    "    # Calculate the duration\n",
    "    duration = end_time - start_time\n",
    "    print(f\"File received and saved as 'received_file.txt' in {duration:.4f} seconds.\")\n",
    "\n",
    "    # Close the client socket\n",
    "    client_socket.close()"
   ]
  },
  {
   "cell_type": "code",
   "execution_count": null,
   "metadata": {},
   "outputs": [
    {
     "name": "stdout",
     "output_type": "stream",
     "text": [
      "UDP Server is listening...\n",
      "Saving file to: c:\\Users\\palim\\Downloads\\received_file_udp.txt\n",
      "Received 981 bytes of data from ('127.0.0.1', 62007): I am wellI am wellI am wellI am wellI am wellI am wellI am wellI am wellI am wellI am wellI am wellI am wellI am wellI am wellI am wellI am wellI am wellI am wellI am wellI am wellI am wellI am wellI am wellI am wellI am wellI am wellI am wellI am wellI am wellI am wellI am wellI am wellI am wellI am wellI am wellI am wellI am wellI am wellI am wellI am wellI am wellI am wellI am wellI am wellI am wellI am wellI am wellI am wellI am wellI am wellI am wellI am wellI am wellI am wellI am wellI am wellI am wellI am wellI am wellI am wellI am wellI am wellI am wellI am wellI am wellI am wellI am wellI am wellI am wellI am wellI am wellI am wellI am wellI am wellI am wellI am wellI am wellI am wellI am wellI am wellI am wellI am wellI am wellI am wellI am wellI am wellI am wellI am wellI am wellI am wellI am wellI am wellI am wellI am wellI am wellI am wellI am wellI am wellI am wellI am wellI am wellI am wellI am wellI am wellI am wellI am wellI am wellI am wellI am well\n",
      "Sent ACK to client.\n",
      "Received END message from client.\n",
      "File received and saved as 'received_file_udp.txt'\n",
      "Saving file to: c:\\Users\\palim\\Downloads\\received_file_udp.txt\n"
     ]
    }
   ],
   "source": [
    "import socket\n",
    "import os\n",
    "\n",
    "# Create a UDP socket\n",
    "server_socket = socket.socket(socket.AF_INET, socket.SOCK_DGRAM)\n",
    "server_socket.bind(('localhost', 65433))\n",
    "print(\"UDP Server is listening...\")\n",
    "\n",
    "while True:\n",
    "    # Open a file to save the received data\n",
    "    with open('received_file_udp.txt', 'wb') as f:\n",
    "        while True:\n",
    "            # Receive data from the client\n",
    "            data, client_address = server_socket.recvfrom(1024)\n",
    "            if data == b\"END\":  # End of file transmission\n",
    "                break\n",
    "            f.write(data)  # Write the received data to the file\n",
    "            f.flush()  # Explicitly flush the buffer to the file\n",
    "            os.fsync(f.fileno())  # Force write to disk\n",
    "\n",
    "            # Send an acknowledgment back to the client\n",
    "            server_socket.sendto(b\"ACK\", client_address)"
   ]
  }
 ],
 "metadata": {
  "kernelspec": {
   "display_name": "dp4ai",
   "language": "python",
   "name": "dp4ai"
  },
  "language_info": {
   "codemirror_mode": {
    "name": "ipython",
    "version": 3
   },
   "file_extension": ".py",
   "mimetype": "text/x-python",
   "name": "python",
   "nbconvert_exporter": "python",
   "pygments_lexer": "ipython3",
   "version": "3.12.5"
  }
 },
 "nbformat": 4,
 "nbformat_minor": 2
}
