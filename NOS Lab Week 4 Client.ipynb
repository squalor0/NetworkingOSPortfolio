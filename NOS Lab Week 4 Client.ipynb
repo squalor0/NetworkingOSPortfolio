{
 "cells": [
  {
   "cell_type": "code",
   "execution_count": null,
   "metadata": {},
   "outputs": [
    {
     "name": "stdout",
     "output_type": "stream",
     "text": [
      "Your IP address is: 192.168.172.218\n"
     ]
    },
    {
     "ename": "OSError",
     "evalue": "[WinError 10022] An invalid argument was supplied",
     "output_type": "error",
     "traceback": [
      "\u001b[1;31m---------------------------------------------------------------------------\u001b[0m",
      "\u001b[1;31mOSError\u001b[0m                                   Traceback (most recent call last)",
      "Cell \u001b[1;32mIn[2], line 15\u001b[0m\n\u001b[0;32m     12\u001b[0m \u001b[38;5;66;03m# Authentication step\u001b[39;00m\n\u001b[0;32m     13\u001b[0m \u001b[38;5;28;01mtry\u001b[39;00m:\n\u001b[0;32m     14\u001b[0m     \u001b[38;5;66;03m# Wait for the server to ask for the username\u001b[39;00m\n\u001b[1;32m---> 15\u001b[0m     prompt, _ \u001b[38;5;241m=\u001b[39m \u001b[43mclient_socket\u001b[49m\u001b[38;5;241;43m.\u001b[39;49m\u001b[43mrecvfrom\u001b[49m\u001b[43m(\u001b[49m\u001b[38;5;241;43m2048\u001b[39;49m\u001b[43m)\u001b[49m\n\u001b[0;32m     16\u001b[0m     \u001b[38;5;28;01mif\u001b[39;00m prompt\u001b[38;5;241m.\u001b[39mdecode() \u001b[38;5;241m==\u001b[39m \u001b[38;5;124m\"\u001b[39m\u001b[38;5;124mUSERNAME\u001b[39m\u001b[38;5;124m\"\u001b[39m:\n\u001b[0;32m     17\u001b[0m         username \u001b[38;5;241m=\u001b[39m \u001b[38;5;28minput\u001b[39m(\u001b[38;5;124m\"\u001b[39m\u001b[38;5;124mEnter your username: \u001b[39m\u001b[38;5;124m\"\u001b[39m)\n",
      "\u001b[1;31mOSError\u001b[0m: [WinError 10022] An invalid argument was supplied"
     ]
    }
   ],
   "source": [
    "import socket\n",
    "\n",
    "# Create a UDP socket\n",
    "client_socket = socket.socket(socket.AF_INET, socket.SOCK_DGRAM)\n",
    "\n",
    "server_address = ('localhost', 65433)\n",
    "\n",
    "# Get the client's IP address\n",
    "client_ip = socket.gethostbyname(socket.gethostname())\n",
    "print(f\"Your IP address is: {client_ip}\")\n",
    "\n",
    "# Authentication step\n",
    "try:\n",
    "    # Send an initial message to the server to start the authentication process\n",
    "    client_socket.sendto(b\"START_AUTH\", server_address)\n",
    "\n",
    "    # Wait for the server to ask for the username\n",
    "    prompt, _ = client_socket.recvfrom(2048)\n",
    "    if prompt.decode() == \"USERNAME\":\n",
    "        username = input(\"Enter your username: \")\n",
    "        client_socket.sendto(username.encode(), server_address)\n",
    "\n",
    "    # Wait for the server to ask for the password\n",
    "    prompt, _ = client_socket.recvfrom(2048)\n",
    "    if prompt.decode() == \"PASSWORD\":\n",
    "        password = input(\"Enter your password: \")\n",
    "        client_socket.sendto(password.encode(), server_address)\n",
    "\n",
    "    # Receive authentication response\n",
    "    response, _ = client_socket.recvfrom(2048)\n",
    "    print(response.decode())\n",
    "\n",
    "    # Check if authentication was successful\n",
    "    if \"successful\" not in response.decode():\n",
    "        print(\"Authentication failed. Exiting...\")\n",
    "        client_socket.close()  # Close the socket\n",
    "        exit()  # Exit the script\n",
    "\n",
    "    # Chat loop (only entered if authentication is successful)\n",
    "    while True:\n",
    "        # Send a message to the server\n",
    "        message = input(\"You: \")\n",
    "        client_socket.sendto(message.encode(), server_address)\n",
    "\n",
    "        # Receive a reply from the server\n",
    "        data, _ = client_socket.recvfrom(2048)\n",
    "        print(f\"Server: {data.decode()}\")\n",
    "except KeyboardInterrupt:\n",
    "    print(\"\\nClient shutting down...\")\n",
    "finally:\n",
    "    client_socket.close()  # Ensure the socket is closed on exit"
   ]
  }
 ],
 "metadata": {
  "kernelspec": {
   "display_name": "dp4ai",
   "language": "python",
   "name": "dp4ai"
  },
  "language_info": {
   "codemirror_mode": {
    "name": "ipython",
    "version": 3
   },
   "file_extension": ".py",
   "mimetype": "text/x-python",
   "name": "python",
   "nbconvert_exporter": "python",
   "pygments_lexer": "ipython3",
   "version": "3.12.5"
  }
 },
 "nbformat": 4,
 "nbformat_minor": 2
}
