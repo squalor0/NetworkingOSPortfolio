{
 "cells": [
  {
   "cell_type": "code",
   "execution_count": 2,
   "metadata": {},
   "outputs": [
    {
     "ename": "ConnectionResetError",
     "evalue": "[WinError 10054] An existing connection was forcibly closed by the remote host",
     "output_type": "error",
     "traceback": [
      "\u001b[1;31m---------------------------------------------------------------------------\u001b[0m",
      "\u001b[1;31mConnectionResetError\u001b[0m                      Traceback (most recent call last)",
      "Cell \u001b[1;32mIn[2], line 11\u001b[0m\n\u001b[0;32m      8\u001b[0m start_time \u001b[38;5;241m=\u001b[39m datetime\u001b[38;5;241m.\u001b[39mdatetime\u001b[38;5;241m.\u001b[39mnow()\n\u001b[0;32m      9\u001b[0m client_socket\u001b[38;5;241m.\u001b[39msendall(message\u001b[38;5;241m.\u001b[39mencode())\n\u001b[1;32m---> 11\u001b[0m response \u001b[38;5;241m=\u001b[39m \u001b[43mclient_socket\u001b[49m\u001b[38;5;241;43m.\u001b[39;49m\u001b[43mrecv\u001b[49m\u001b[43m(\u001b[49m\u001b[38;5;241;43m1024\u001b[39;49m\u001b[43m)\u001b[49m\n\u001b[0;32m     12\u001b[0m end_time \u001b[38;5;241m=\u001b[39m datetime\u001b[38;5;241m.\u001b[39mdatetime\u001b[38;5;241m.\u001b[39mnow()\n\u001b[0;32m     13\u001b[0m duration \u001b[38;5;241m=\u001b[39m end_time \u001b[38;5;241m-\u001b[39m start_time\n",
      "\u001b[1;31mConnectionResetError\u001b[0m: [WinError 10054] An existing connection was forcibly closed by the remote host"
     ]
    }
   ],
   "source": [
    "import socket\n",
    "import datetime\n",
    "\n",
    "client_socket = socket.socket(socket.AF_INET, socket.SOCK_STREAM)\n",
    "client_socket.connect(('localhost', 65432))\n",
    "\n",
    "message = input(\"Enter message: \")\n",
    "start_time = datetime.datetime.now()\n",
    "client_socket.sendall(message.encode())\n",
    "\n",
    "response = client_socket.recv(1024)\n",
    "end_time = datetime.datetime.now()\n",
    "duration = end_time - start_time\n",
    "print(f\"Server response: {response.decode()}\")\n",
    "print(f\"Time taken: {duration.total_seconds()} seconds\")\n",
    "\n",
    "client_socket.close()\n"
   ]
  },
  {
   "cell_type": "code",
   "execution_count": 1,
   "metadata": {},
   "outputs": [
    {
     "name": "stdout",
     "output_type": "stream",
     "text": [
      "Server response: ACK: hi\n",
      "Time taken (UDP): 0.004267 seconds\n"
     ]
    }
   ],
   "source": [
    "import socket\n",
    "import datetime\n",
    "\n",
    "# Create a UDP socket\n",
    "client_socket = socket.socket(socket.AF_INET, socket.SOCK_DGRAM)\n",
    "\n",
    "server_address = ('localhost', 65433)\n",
    "\n",
    "# Get the message from the user\n",
    "message = input(\"Enter message: \")\n",
    "\n",
    "# Record the start time\n",
    "start_time = datetime.datetime.now()\n",
    "\n",
    "# Send the message to the server\n",
    "client_socket.sendto(message.encode(), server_address)\n",
    "\n",
    "# Receive the response from the server\n",
    "response, _ = client_socket.recvfrom(1024)\n",
    "\n",
    "# Record the end time\n",
    "end_time = datetime.datetime.now()\n",
    "\n",
    "# Calculate the duration\n",
    "duration = end_time - start_time\n",
    "\n",
    "# Print the server response and the duration\n",
    "print(f\"Server response: {response.decode()}\")\n",
    "print(f\"Time taken (UDP): {duration.total_seconds()} seconds\")\n",
    "\n",
    "# Close the client socket\n",
    "client_socket.close()"
   ]
  },
  {
   "cell_type": "code",
   "execution_count": 14,
   "metadata": {},
   "outputs": [],
   "source": [
    "import socket\n",
    "\n",
    "# Create a TCP socket\n",
    "client_socket = socket.socket(socket.AF_INET, socket.SOCK_STREAM)\n",
    "\n",
    "# Connect to the server\n",
    "client_socket.connect(('localhost', 65432))\n",
    "\n",
    "# Get the message from the user\n",
    "message = input(\"Enter message to send: \")\n",
    "\n",
    "# Send the message to the server\n",
    "client_socket.sendall(message.encode())\n",
    "\n",
    "# Close the client socket\n",
    "client_socket.close()"
   ]
  },
  {
   "cell_type": "code",
   "execution_count": null,
   "metadata": {},
   "outputs": [
    {
     "name": "stdout",
     "output_type": "stream",
     "text": [
      "Sending file: file_to_send.txt\n",
      "File sent successfully.\n"
     ]
    }
   ],
   "source": [
    "import socket\n",
    "\n",
    "# Create a TCP socket\n",
    "client_socket = socket.socket(socket.AF_INET, socket.SOCK_STREAM)\n",
    "\n",
    "# Connect to the server\n",
    "client_socket.connect(('localhost', 65432))\n",
    "\n",
    "# Open the file to send\n",
    "file_name = 'file_to_send.txt'\n",
    "try:\n",
    "    with open(file_name, 'rb') as f:\n",
    "        print(f\"Sending file: {file_name}\")\n",
    "        while True:\n",
    "            # Read data from the file in chunks\n",
    "            data = f.read(1024)  # Read 1024 bytes at a time\n",
    "            if not data:\n",
    "                break  # Stop if no more data is read\n",
    "            client_socket.sendall(data)  # Send the data to the server\n",
    "    print(\"File sent successfully.\")\n",
    "except FileNotFoundError:\n",
    "    print(f\"Error: File '{file_name}' not found.\")\n",
    "finally:\n",
    "    # Close the client socket\n",
    "    client_socket.close()"
   ]
  },
  {
   "cell_type": "code",
   "execution_count": 17,
   "metadata": {},
   "outputs": [
    {
     "name": "stdout",
     "output_type": "stream",
     "text": [
      "Sending file: file_to_send.txt\n",
      "File sent successfully in 0.0000 seconds.\n"
     ]
    }
   ],
   "source": [
    "import socket\n",
    "import time  # Import the time module\n",
    "\n",
    "# Create a TCP socket\n",
    "client_socket = socket.socket(socket.AF_INET, socket.SOCK_STREAM)\n",
    "\n",
    "# Connect to the server\n",
    "client_socket.connect(('localhost', 65432))\n",
    "\n",
    "# Open the file to send\n",
    "file_name = 'file_to_send.txt'\n",
    "try:\n",
    "    with open(file_name, 'rb') as f:\n",
    "        print(f\"Sending file: {file_name}\")\n",
    "        \n",
    "        # Record the start time\n",
    "        start_time = time.time()\n",
    "        \n",
    "        while True:\n",
    "            # Read data from the file in chunks\n",
    "            data = f.read(1024)  # Read 1024 bytes at a time\n",
    "            if not data:\n",
    "                break  # Stop if no more data is read\n",
    "            client_socket.sendall(data)  # Send the data to the server\n",
    "        \n",
    "        # Record the end time\n",
    "        end_time = time.time()\n",
    "        \n",
    "        # Calculate the duration\n",
    "        duration = end_time - start_time\n",
    "        print(f\"File sent successfully in {duration:.4f} seconds.\")\n",
    "except FileNotFoundError:\n",
    "    print(f\"Error: File '{file_name}' not found.\")\n",
    "finally:\n",
    "    # Close the client socket\n",
    "    client_socket.close()"
   ]
  },
  {
   "cell_type": "code",
   "execution_count": null,
   "metadata": {},
   "outputs": [
    {
     "name": "stdout",
     "output_type": "stream",
     "text": [
      "Sending file: file_to_send.txt\n",
      "Sent 981 bytes of data to server.\n",
      "Received ACK from server.\n",
      "Sent END message to server.\n",
      "File sent successfully in 0.0030 seconds.\n"
     ]
    }
   ],
   "source": [
    "import socket\n",
    "import datetime\n",
    "\n",
    "# Create a UDP socket\n",
    "client_socket = socket.socket(socket.AF_INET, socket.SOCK_DGRAM)\n",
    "\n",
    "server_address = ('localhost', 65433)\n",
    "\n",
    "# Open the file to send\n",
    "file_name = 'file_to_send.txt'\n",
    "try:\n",
    "    with open(file_name, 'rb') as f:\n",
    "        # Record the start time\n",
    "        start_time = datetime.datetime.now()\n",
    "\n",
    "        while True:\n",
    "            # Read data from the file in chunks\n",
    "            data = f.read(1024)  # Read 1024 bytes at a time\n",
    "            if not data:\n",
    "                # Send an \"END\" message to indicate the end of the file\n",
    "                client_socket.sendto(b\"END\", server_address)\n",
    "                break\n",
    "            # Send the data to the server\n",
    "            client_socket.sendto(data, server_address)\n",
    "\n",
    "            # Wait for an acknowledgment from the server\n",
    "            ack, _ = client_socket.recvfrom(1024)\n",
    "            if ack != b\"ACK\":\n",
    "                break\n",
    "\n",
    "        # Record the end time\n",
    "        end_time = datetime.datetime.now()\n",
    "\n",
    "        # Calculate the duration\n",
    "        duration = end_time - start_time\n",
    "        print(f\"File sent successfully in {duration.total_seconds():.4f} seconds.\")\n",
    "except FileNotFoundError:\n",
    "    print(f\"Error: File '{file_name}' not found.\")\n",
    "finally:\n",
    "    # Close the client socket\n",
    "    client_socket.close()"
   ]
  }
 ],
 "metadata": {
  "kernelspec": {
   "display_name": "dp4ai",
   "language": "python",
   "name": "dp4ai"
  },
  "language_info": {
   "codemirror_mode": {
    "name": "ipython",
    "version": 3
   },
   "file_extension": ".py",
   "mimetype": "text/x-python",
   "name": "python",
   "nbconvert_exporter": "python",
   "pygments_lexer": "ipython3",
   "version": "3.12.5"
  }
 },
 "nbformat": 4,
 "nbformat_minor": 2
}
